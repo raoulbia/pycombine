{
 "cells": [
  {
   "cell_type": "code",
   "execution_count": 1,
   "metadata": {},
   "outputs": [],
   "source": [
    "import pickle\n",
    "import pandas as pd"
   ]
  },
  {
   "cell_type": "code",
   "execution_count": 2,
   "metadata": {},
   "outputs": [],
   "source": [
    "date_cols = [\n",
    "'Date',\n",
    "'Incident Create Date',\n",
    "'Incident Start Datetime',\n",
    "'Incident End Datetime',\n",
    "'Incident Close Datetime',\n",
    "'Origin Departure Date - Resp',\n",
    "'Planned Origin WTT Datetime - Resp',\n",
    "'Origin Departure Date - Affected',\n",
    "'Actual Origin Actual Datetime - Affected',\n",
    "'Actual Origin WTT Datetime - Affected',\n",
    "'Planned Dest Actual Datetime - Affected',\n",
    "'Planned Dest GBTT Datetime - Affected',\n",
    "'Planned Dest WTT Datetime - Affected',\n",
    "'Planned Origin WTT Datetime - Affected',\n",
    "'Actual Start Datetime',\n",
    "'Actual End Datetime',\n",
    "'Event Datetime'\n",
    "]"
   ]
  },
  {
   "cell_type": "code",
   "execution_count": 3,
   "metadata": {},
   "outputs": [
    {
     "data": {
      "text/plain": [
       "(12985, 141)"
      ]
     },
     "execution_count": 3,
     "metadata": {},
     "output_type": "execute_result"
    }
   ],
   "source": [
    "# fp = '../local-data/input/Attributions-20190401-20200618.csv'\n",
    "fp = '../local-data/input/Attributions-202009.csv'\n",
    "dat = pd.read_csv(fp,\n",
    "                 dtype=str,\n",
    "                 encoding='ISO-8859-1', # to prevent unicode error\n",
    "                 keep_default_na=True,\n",
    "                 infer_datetime_format=True,\n",
    "                 parse_dates = date_cols,\n",
    "                 dayfirst=True\n",
    "                )\n",
    "dat.shape"
   ]
  },
  {
   "cell_type": "markdown",
   "metadata": {},
   "source": [
    "### Combine"
   ]
  },
  {
   "cell_type": "code",
   "execution_count": 4,
   "metadata": {},
   "outputs": [
    {
     "data": {
      "text/plain": [
       "Timestamp('2020-09-30 00:40:00')"
      ]
     },
     "execution_count": 4,
     "metadata": {},
     "output_type": "execute_result"
    }
   ],
   "source": [
    "max(dat['Incident Start Datetime'])"
   ]
  },
  {
   "cell_type": "code",
   "execution_count": 8,
   "metadata": {},
   "outputs": [
    {
     "data": {
      "text/plain": [
       "(521815, 138)"
      ]
     },
     "execution_count": 8,
     "metadata": {},
     "output_type": "execute_result"
    }
   ],
   "source": [
    "fp = '../local-data/input/Attributions-20140401-20190331.csv'\n",
    "dat2 = pd.read_csv(fp,\n",
    "                 dtype=str,\n",
    "                 encoding='ISO-8859-1', # to prevent unicode error\n",
    "                 keep_default_na=True,\n",
    "                 infer_datetime_format=True,\n",
    "                 parse_dates = date_cols,\n",
    "                 dayfirst=True\n",
    "                )\n",
    "dat2.shape"
   ]
  },
  {
   "cell_type": "code",
   "execution_count": 9,
   "metadata": {},
   "outputs": [
    {
     "data": {
      "text/plain": [
       "Timestamp('2019-03-31 18:56:00')"
      ]
     },
     "execution_count": 9,
     "metadata": {},
     "output_type": "execute_result"
    }
   ],
   "source": [
    "max(dat2['Incident Start Datetime'])"
   ]
  },
  {
   "cell_type": "code",
   "execution_count": 10,
   "metadata": {},
   "outputs": [
    {
     "name": "stdout",
     "output_type": "stream",
     "text": [
      "676949\n"
     ]
    },
    {
     "data": {
      "text/plain": [
       "(676949, 138)"
      ]
     },
     "execution_count": 10,
     "metadata": {},
     "output_type": "execute_result"
    }
   ],
   "source": [
    "print(len(dat)+len(dat2))\n",
    "df = dat2.append(dat,ignore_index=True)\n",
    "df.shape"
   ]
  },
  {
   "cell_type": "code",
   "execution_count": 17,
   "metadata": {},
   "outputs": [],
   "source": [
    "# save as pickle\n",
    "# f = open('../local-data/input/Attributions_20140401_20190331.pickle', 'wb')\n",
    "# f = open('../local-data/input/Attributions_20190401_20200618.pickle', 'wb')\n",
    "# f = open('../local-data/input/Attributions_2014_2020.pickle', 'wb')\n",
    "# pickle.dump(df, f)\n",
    "# f.close()\n",
    "\n",
    "# september 2020 incidents\n",
    "f = open('../local-data/input/Attributions_202009.pickle', 'wb')\n",
    "pickle.dump(dat, f)\n",
    "f.close()"
   ]
  },
  {
   "cell_type": "code",
   "execution_count": 18,
   "metadata": {},
   "outputs": [],
   "source": [
    "del dat\n",
    "# del dat2"
   ]
  },
  {
   "cell_type": "code",
   "execution_count": 18,
   "metadata": {},
   "outputs": [
    {
     "name": "stdout",
     "output_type": "stream",
     "text": [
      "(676949, 138)\n"
     ]
    },
    {
     "data": {
      "text/html": [
       "<div>\n",
       "<style scoped>\n",
       "    .dataframe tbody tr th:only-of-type {\n",
       "        vertical-align: middle;\n",
       "    }\n",
       "\n",
       "    .dataframe tbody tr th {\n",
       "        vertical-align: top;\n",
       "    }\n",
       "\n",
       "    .dataframe thead th {\n",
       "        text-align: right;\n",
       "    }\n",
       "</style>\n",
       "<table border=\"1\" class=\"dataframe\">\n",
       "  <thead>\n",
       "    <tr style=\"text-align: right;\">\n",
       "      <th></th>\n",
       "      <th>Date</th>\n",
       "      <th>English Day Type</th>\n",
       "      <th>Responsible Organisation Full Name</th>\n",
       "      <th>Responsible Type</th>\n",
       "      <th>Network Group</th>\n",
       "      <th>Route</th>\n",
       "      <th>Route Abbrev</th>\n",
       "      <th>Route Name</th>\n",
       "      <th>Area</th>\n",
       "      <th>Area Abbrev</th>\n",
       "      <th>...</th>\n",
       "      <th>Event Count</th>\n",
       "      <th>Event Duration Seconds</th>\n",
       "      <th>Event Duration</th>\n",
       "      <th>Train Movement Count</th>\n",
       "      <th>Responsible Train Count</th>\n",
       "      <th>Reactionary Train Count</th>\n",
       "      <th>Actual Start Datetime</th>\n",
       "      <th>Actual End Datetime</th>\n",
       "      <th>Event Datetime</th>\n",
       "      <th>Reactionary Train ID</th>\n",
       "    </tr>\n",
       "  </thead>\n",
       "  <tbody>\n",
       "    <tr>\n",
       "      <th>0</th>\n",
       "      <td>2014-01-04</td>\n",
       "      <td>WD</td>\n",
       "      <td>Central</td>\n",
       "      <td>Network Rail</td>\n",
       "      <td>NR</td>\n",
       "      <td>E</td>\n",
       "      <td>RCTL</td>\n",
       "      <td>Central</td>\n",
       "      <td>GMWM</td>\n",
       "      <td>GM WM</td>\n",
       "      <td>...</td>\n",
       "      <td>1</td>\n",
       "      <td>60</td>\n",
       "      <td>1</td>\n",
       "      <td>1</td>\n",
       "      <td>1</td>\n",
       "      <td>1</td>\n",
       "      <td>2014-01-04 19:29:00</td>\n",
       "      <td>2014-01-04 19:37:00</td>\n",
       "      <td>2014-01-04 19:37:00</td>\n",
       "      <td>NaN</td>\n",
       "    </tr>\n",
       "  </tbody>\n",
       "</table>\n",
       "<p>1 rows × 138 columns</p>\n",
       "</div>"
      ],
      "text/plain": [
       "        Date English Day Type Responsible Organisation Full Name  \\\n",
       "0 2014-01-04               WD                            Central   \n",
       "\n",
       "  Responsible Type Network Group Route Route Abbrev Route Name  Area  \\\n",
       "0     Network Rail            NR     E         RCTL    Central  GMWM   \n",
       "\n",
       "  Area Abbrev  ... Event Count Event Duration Seconds Event Duration  \\\n",
       "0       GM WM  ...           1                     60              1   \n",
       "\n",
       "  Train Movement Count Responsible Train Count Reactionary Train Count  \\\n",
       "0                    1                       1                       1   \n",
       "\n",
       "  Actual Start Datetime Actual End Datetime      Event Datetime  \\\n",
       "0   2014-01-04 19:29:00 2014-01-04 19:37:00 2014-01-04 19:37:00   \n",
       "\n",
       "  Reactionary Train ID  \n",
       "0                  NaN  \n",
       "\n",
       "[1 rows x 138 columns]"
      ]
     },
     "execution_count": 18,
     "metadata": {},
     "output_type": "execute_result"
    }
   ],
   "source": [
    "# read pickle\n",
    "# df = pd.read_pickle('../local-data/input/Attributions_20140401_20190331.pickle')\n",
    "df = pd.read_pickle('../local-data/input/Attributions_20190401_20200618.pickle')\n",
    "df = pd.read_pickle('../local-data/input/Attributions_2014_2020.pickle')\n",
    "print(df.shape)\n",
    "df.head(1)"
   ]
  },
  {
   "cell_type": "code",
   "execution_count": 17,
   "metadata": {},
   "outputs": [
    {
     "data": {
      "text/html": [
       "<div>\n",
       "<style scoped>\n",
       "    .dataframe tbody tr th:only-of-type {\n",
       "        vertical-align: middle;\n",
       "    }\n",
       "\n",
       "    .dataframe tbody tr th {\n",
       "        vertical-align: top;\n",
       "    }\n",
       "\n",
       "    .dataframe thead th {\n",
       "        text-align: right;\n",
       "    }\n",
       "</style>\n",
       "<table border=\"1\" class=\"dataframe\">\n",
       "  <thead>\n",
       "    <tr style=\"text-align: right;\">\n",
       "      <th></th>\n",
       "      <th>Incident Start Datetime</th>\n",
       "      <th>test_time_extraction</th>\n",
       "    </tr>\n",
       "  </thead>\n",
       "  <tbody>\n",
       "    <tr>\n",
       "      <th>111624</th>\n",
       "      <td>2018-03-02 05:00:00</td>\n",
       "      <td>05:00:00</td>\n",
       "    </tr>\n",
       "    <tr>\n",
       "      <th>224825</th>\n",
       "      <td>2016-11-24 12:33:00</td>\n",
       "      <td>12:33:00</td>\n",
       "    </tr>\n",
       "    <tr>\n",
       "      <th>124169</th>\n",
       "      <td>2017-04-05 15:25:00</td>\n",
       "      <td>15:25:00</td>\n",
       "    </tr>\n",
       "    <tr>\n",
       "      <th>807</th>\n",
       "      <td>2014-02-20 14:35:00</td>\n",
       "      <td>14:35:00</td>\n",
       "    </tr>\n",
       "    <tr>\n",
       "      <th>406683</th>\n",
       "      <td>2015-11-07 06:53:00</td>\n",
       "      <td>06:53:00</td>\n",
       "    </tr>\n",
       "    <tr>\n",
       "      <th>62888</th>\n",
       "      <td>2018-12-14 12:25:00</td>\n",
       "      <td>12:25:00</td>\n",
       "    </tr>\n",
       "    <tr>\n",
       "      <th>103289</th>\n",
       "      <td>2018-02-06 09:39:00</td>\n",
       "      <td>09:39:00</td>\n",
       "    </tr>\n",
       "    <tr>\n",
       "      <th>399985</th>\n",
       "      <td>2015-10-15 11:03:00</td>\n",
       "      <td>11:03:00</td>\n",
       "    </tr>\n",
       "    <tr>\n",
       "      <th>172362</th>\n",
       "      <td>2018-06-19 11:15:00</td>\n",
       "      <td>11:15:00</td>\n",
       "    </tr>\n",
       "    <tr>\n",
       "      <th>181689</th>\n",
       "      <td>2018-07-12 18:40:00</td>\n",
       "      <td>18:40:00</td>\n",
       "    </tr>\n",
       "  </tbody>\n",
       "</table>\n",
       "</div>"
      ],
      "text/plain": [
       "       Incident Start Datetime test_time_extraction\n",
       "111624     2018-03-02 05:00:00             05:00:00\n",
       "224825     2016-11-24 12:33:00             12:33:00\n",
       "124169     2017-04-05 15:25:00             15:25:00\n",
       "807        2014-02-20 14:35:00             14:35:00\n",
       "406683     2015-11-07 06:53:00             06:53:00\n",
       "62888      2018-12-14 12:25:00             12:25:00\n",
       "103289     2018-02-06 09:39:00             09:39:00\n",
       "399985     2015-10-15 11:03:00             11:03:00\n",
       "172362     2018-06-19 11:15:00             11:15:00\n",
       "181689     2018-07-12 18:40:00             18:40:00"
      ]
     },
     "execution_count": 17,
     "metadata": {},
     "output_type": "execute_result"
    }
   ],
   "source": [
    "unpickled_df['test_time_extraction'] = unpickled_df['Incident Start Datetime'].dt.strftime(\"%H:%M:%S\")\n",
    "unpickled_df[['Incident Start Datetime', 'test_time_extraction']].sample(10)"
   ]
  }
 ],
 "metadata": {
  "kernelspec": {
   "display_name": "Python 3",
   "language": "python",
   "name": "python3"
  },
  "language_info": {
   "codemirror_mode": {
    "name": "ipython",
    "version": 3
   },
   "file_extension": ".py",
   "mimetype": "text/x-python",
   "name": "python",
   "nbconvert_exporter": "python",
   "pygments_lexer": "ipython3",
   "version": "3.8.3"
  }
 },
 "nbformat": 4,
 "nbformat_minor": 4
}
